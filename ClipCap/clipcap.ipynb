{
 "cells": [
  {
   "cell_type": "code",
   "execution_count": null,
   "metadata": {},
   "outputs": [],
   "source": [
    "import cv2\n",
    "import json\n",
    "import torch\n",
    "import numpy as np\n",
    "from tqdm import tqdm\n",
    "import matplotlib.pyplot as plt\n",
    "from transformers.optimization import get_scheduler\n",
    "from transformers import CLIPModel, BertTokenizer, GPT2LMHeadModel, GPT2Model, CLIPFeatureExtractor, CLIPVisionModel, logging, AdamW"
   ]
  },
  {
   "cell_type": "code",
   "execution_count": null,
   "metadata": {},
   "outputs": [],
   "source": [
    "device = 'cuda' if torch.cuda.is_available() else 'cpu'"
   ]
  },
  {
   "attachments": {},
   "cell_type": "markdown",
   "metadata": {},
   "source": [
    "### 加载GPT2预训练模型"
   ]
  },
  {
   "cell_type": "code",
   "execution_count": null,
   "metadata": {},
   "outputs": [],
   "source": [
    "logging.set_verbosity_error()   # 消除未使用权重的warning\n",
    "\n",
    "text_model = GPT2Model.from_pretrained(\"uer/gpt2-chinese-cluecorpussmall\").to(device)\n",
    "# 冻结参数\n",
    "# 不训练, 不需要计算梯度\n",
    "# for param in text_model.parameters():\n",
    "    # param.requires_grad = False"
   ]
  },
  {
   "cell_type": "code",
   "execution_count": null,
   "metadata": {},
   "outputs": [],
   "source": [
    "tokenizer = BertTokenizer.from_pretrained(\"uer/gpt2-chinese-cluecorpussmall\")"
   ]
  },
  {
   "attachments": {},
   "cell_type": "markdown",
   "metadata": {},
   "source": [
    "### 加载数据集"
   ]
  },
  {
   "cell_type": "code",
   "execution_count": null,
   "metadata": {},
   "outputs": [],
   "source": [
    "class DataSet(torch.utils.data.Dataset):\n",
    "    def __init__(self, data_path, cap_path, tokenizer):\n",
    "        dataset = torch.load(data_path)\n",
    "        caption = json.load(open(cap_path))\n",
    "        self.data = {'img_feature': [], 'label': []}\n",
    "\n",
    "        for cap in caption:\n",
    "            if(dataset.get(cap['image_id']) is None):\n",
    "                continue\n",
    "            self.data['img_feature'].append(dataset[cap['image_id']])\n",
    "            label = tokenizer.batch_encode_plus(cap['caption'], return_tensors='pt', return_token_type_ids=False, add_special_tokens=True, padding='max_length', max_length=32, truncation=True)\n",
    "            self.data['label'].append(label)\n",
    "\n",
    "        self.data['img_feature'] = torch.concat(self.data['img_feature'])\n",
    "\n",
    "    def __getitem__(self, idx):\n",
    "        # 随机选择与一个caption\n",
    "        label_id = np.random.randint(0, 1)\n",
    "\n",
    "        img_feature = self.data['img_feature'][idx]\n",
    "        label_ids = self.data['label'][idx]['input_ids'][label_id, 1:]\n",
    "        label_attention_mask = self.data['label'][idx]['attention_mask'][label_id, 1:]\n",
    "\n",
    "        return {'img_feature': img_feature, 'label_ids': label_ids, 'label_attention_mask': label_attention_mask}\n",
    "    \n",
    "    def __len__(self):\n",
    "        return self.data['img_feature'].shape[0]"
   ]
  },
  {
   "cell_type": "code",
   "execution_count": null,
   "metadata": {},
   "outputs": [],
   "source": [
    "dataset = DataSet('./test_emb.pt', './images/im_cap/caption_validation_annotations.json', tokenizer)\n",
    "\n",
    "loader = torch.utils.data.DataLoader(\n",
    "    dataset = dataset, \n",
    "    batch_size = 8, \n",
    "    shuffle = True,\n",
    "    drop_last = True\n",
    ")\n",
    "for i in loader:\n",
    "    print(i['img_feature'].shape, i['label_ids'].shape, i['label_attention_mask'].shape)\n",
    "    break\n",
    "print(i['img_feature'], i['label_ids'], i['label_attention_mask'])"
   ]
  },
  {
   "cell_type": "code",
   "execution_count": null,
   "metadata": {},
   "outputs": [],
   "source": [
    "js = json.load(open('./images/im_cap/caption_validation_annotations.json'))\n",
    "js"
   ]
  },
  {
   "attachments": {},
   "cell_type": "markdown",
   "metadata": {},
   "source": [
    "### 定义模型"
   ]
  },
  {
   "cell_type": "code",
   "execution_count": 61,
   "metadata": {},
   "outputs": [],
   "source": [
    "# 定义下游任务模型\n",
    "class Model(torch.nn.Module):\n",
    "    def __init__(self, gpt: GPT2Model, prefix_len, const_len):\n",
    "        super().__init__()\n",
    "        self.device = device\n",
    "        self.prefix_len = prefix_len\n",
    "        self.const_len = const_len\n",
    "        # self.const_embeddings = torch.nn.Parameter(torch.randn(1, const_len, 768))\n",
    "\n",
    "        self.mapping_vision = torch.nn.Sequential(torch.nn.Linear(1024, prefix_len*768))\n",
    "        # self.mapping_prefix = torch.nn.Linear(768, 768)\n",
    "        self.text_gen = gpt\n",
    "        # 加载生成模型生成部分最后一层fc参数\n",
    "        self.fc = torch.nn.Linear(768, tokenizer.vocab_size, bias=False).to(self.device)\n",
    "        parameters = GPT2LMHeadModel.from_pretrained('uer/gpt2-chinese-cluecorpussmall').to(self.device)\n",
    "        self.fc.load_state_dict(parameters.lm_head.state_dict())\n",
    "\n",
    "        self.criterion =torch.nn.CrossEntropyLoss().to(self.device)\n",
    "\n",
    "    def forward(self, img_feature, label_ids, label_attention_mask):\n",
    "        bs = img_feature.shape[0]\n",
    "\n",
    "        # 将图像特征map到文本特征\n",
    "        prefix_embeddings = self.mapping_vision(img_feature).view(bs, self.prefix_len, 768)\n",
    "        # prefix_embeddings = torch.concat([prefix_embeddings, self.const_embeddings.expand(bs, self.const_len, 768)], dim=1)\n",
    "        # prefix_embeddings = self.mapping_prefix(prefix_embeddings)\n",
    "        label_embeddings = self.text_gen.wte(label_ids)\n",
    "        \n",
    "        # 文本生成\n",
    "        logits = torch.concat([prefix_embeddings, label_embeddings], dim=1)\n",
    "        prefix_mask = torch.ones(bs, self.prefix_len+self.const_len).to(self.device)\n",
    "        attention_mask = torch.concat([prefix_mask, label_attention_mask], dim=1)   # 补齐mask\n",
    "    \n",
    "        logits = self.text_gen(inputs_embeds=logits, attention_mask=attention_mask).last_hidden_state\n",
    "        logits = self.fc(logits)\n",
    "\n",
    "        # 取有效值算loss\n",
    "        loss_mask_head = torch.zeros(bs, self.prefix_len+self.const_len-1).to(self.device)\n",
    "        loss_mask_tail = torch.zeros(bs, 1).to(self.device)\n",
    "        loss_mask = torch.concat([loss_mask_head, label_attention_mask, loss_mask_tail], dim=1)\n",
    "        # 计算损失\n",
    "        shift_logits = logits[loss_mask == 1]\n",
    "        shift_labels = label_ids[label_attention_mask == 1]\n",
    "\n",
    "        loss = self.criterion(shift_logits, shift_labels)\n",
    "\n",
    "        return {\n",
    "            'loss': loss,\n",
    "            'logits': logits\n",
    "        }"
   ]
  },
  {
   "cell_type": "code",
   "execution_count": null,
   "metadata": {},
   "outputs": [],
   "source": [
    "model = Model(text_model, 2, 0).to(device)"
   ]
  },
  {
   "attachments": {},
   "cell_type": "markdown",
   "metadata": {},
   "source": [
    "# 训练"
   ]
  },
  {
   "cell_type": "code",
   "execution_count": null,
   "metadata": {},
   "outputs": [],
   "source": [
    "def train(model, epoches):\n",
    "    model = model.to(device)\n",
    "\n",
    "    optimizer = AdamW(model.parameters(), lr = 1e-4)\n",
    "    # scheduler = get_scheduler(name='linear',\n",
    "    #                           num_warmup_steps=0,\n",
    "    #                           num_training_steps=2,\n",
    "    #                           optimizer=optimizer)\n",
    "    \n",
    "    model.train()\n",
    "    for e in range(epoches):\n",
    "        ls = 0\n",
    "        for i, data in tqdm(enumerate(loader)):\n",
    "            for k in data.keys():\n",
    "                data[k] = data[k].to(device)\n",
    "            out = model(**data)\n",
    "            loss = out['loss']\n",
    "            ls += loss.item()\n",
    "\n",
    "            loss.backward()\n",
    "            torch.nn.utils.clip_grad_norm_(model.parameters(), max_norm=1.0) # 解决梯度爆炸\n",
    "\n",
    "            optimizer.step()\n",
    "            # scheduler.step()\n",
    "\n",
    "            optimizer.zero_grad()\n",
    "            model.zero_grad()\n",
    "\n",
    "        print(e, ls / len(loader))\n",
    "\n",
    "    model = model.to('cpu')\n",
    "\n",
    "train(model, 100)\n",
    "# torch.save(model, './models/en_gen.model')"
   ]
  },
  {
   "attachments": {},
   "cell_type": "markdown",
   "metadata": {},
   "source": [
    "### 生成"
   ]
  },
  {
   "cell_type": "code",
   "execution_count": 64,
   "metadata": {},
   "outputs": [],
   "source": [
    "def generate(img_feature, model, tokenizer, max_length, num_samples):\n",
    "\n",
    "    def generate_loop(logits, output):\n",
    "        with torch.no_grad():\n",
    "            out = model.text_gen(inputs_embeds = logits).last_hidden_state    # attention_mask默认全1\n",
    "            out = model.fc(out)[:, -1]\n",
    "\n",
    "        # 在前num_samples个采样\n",
    "        topk_value = torch.topk(out, num_samples).values\n",
    "        topk_value = topk_value[:, -1].unsqueeze(dim=1)\n",
    "\n",
    "        # 赋值\n",
    "        out = out.masked_fill(out < topk_value, -float('inf'))\n",
    "\n",
    "        # 根据概率采样, 无放回\n",
    "        out = out.softmax(dim=1)\n",
    "        out = out.multinomial(num_samples=1)\n",
    "        if(output is None):\n",
    "            output = out\n",
    "        else:\n",
    "            output = torch.cat([output, out], dim=1)\n",
    "        \n",
    "        #将输出编码\n",
    "        out_embeddings = model.text_gen.wte(out)\n",
    "        logits = torch.cat([logits, out_embeddings], dim=1)\n",
    "\n",
    "        if(logits.shape[1] >= max_length):\n",
    "            return output\n",
    "        \n",
    "        return generate_loop(logits, output)\n",
    "\n",
    "    logits = model.mapping_vision(img_feature).view(1, model.prefix_len, 768)\n",
    "\n",
    "    # 重复5遍\n",
    "    output = None\n",
    "    logits = logits.expand(5, model.prefix_len, 768)\n",
    "    output = generate_loop(logits, output)\n",
    "\n",
    "    for i in range(5):\n",
    "        print(i, tokenizer.decode(output[i].flatten(), add_special_tokens=False))"
   ]
  },
  {
   "cell_type": "code",
   "execution_count": null,
   "metadata": {},
   "outputs": [],
   "source": [
    "feature_extractor = CLIPFeatureExtractor.from_pretrained(\"openai/clip-vit-large-patch14\")\n",
    "vision_model = CLIPVisionModel.from_pretrained(\"openai/clip-vit-large-patch14\").to('cpu')"
   ]
  },
  {
   "attachments": {},
   "cell_type": "markdown",
   "metadata": {},
   "source": [
    "### 使用"
   ]
  },
  {
   "cell_type": "code",
   "execution_count": 62,
   "metadata": {},
   "outputs": [],
   "source": [
    "model = torch.load('./clipcap_mlp_finetune.model')"
   ]
  },
  {
   "cell_type": "code",
   "execution_count": 66,
   "metadata": {},
   "outputs": [
    {
     "name": "stdout",
     "output_type": "stream",
     "text": [
      "你输入的图片: \n"
     ]
    },
    {
     "data": {
      "image/png": "[encoded data removed]",
      "text/plain": [
       "<Figure size 432x288 with 1 Axes>"
      ]
     },
     "metadata": {
      "needs_background": "light"
     },
     "output_type": "display_data"
    },
    {
     "name": "stdout",
     "output_type": "stream",
     "text": [
      "生成的文字: \n",
      "0 一 个 抱 着 小 孩 的 男 人 站 在 房 屋 前 的 道 路 上 [SEP] 一 个 人 的 前 面 [SEP] [SEP] [SEP]\n",
      "1 一 个 大 腹 便 便 的 男 人 站 在 房 屋 前 的 道 路 上 [SEP] 一 个 人 的 前 面 [SEP] [SEP] [SEP]\n",
      "2 一 个 大 腹 便 便 的 男 人 躺 在 房 屋 内 [SEP] [SEP] [SEP] 房 间 内 的 床 上 [SEP] [SEP] [SEP] [SEP] [SEP]\n",
      "3 一 个 大 腹 便 便 的 男 人 躺 在 房 屋 里 [SEP] [SEP] [SEP] [SEP] [SEP] [SEP] 噗 噗 噗 噗 ~ ~ [SEP] [SEP]\n",
      "4 一 个 抱 着 小 孩 的 男 人 站 在 房 屋 前 的 道 路 上 [SEP] 一 个 穿 着 黑 色 衣 服 的\n"
     ]
    }
   ],
   "source": [
    "def cap_img(img_path: str, feature_extractor: CLIPFeatureExtractor, vision_model: CLIPVisionModel):\n",
    "    model.eval()\n",
    "    # 导入图片\n",
    "    img = cv2.cvtColor(cv2.imread(img_path), cv2.COLOR_BGR2RGB)\n",
    "    print('你输入的图片: ')\n",
    "    plt.imshow(img)\n",
    "    plt.show()\n",
    "    img = torch.from_numpy(img.transpose(2,0,1))\n",
    "    \n",
    "    # 图片预处理\n",
    "    pixel_values = feature_extractor(img, return_tensors='pt')['pixel_values']\n",
    "    img_feature = vision_model(pixel_values.to('cpu')).pooler_output.view(1, -1)\n",
    "\n",
    "    # 生成文字\n",
    "    print('生成的文字: ')\n",
    "    model.text_gen = model.text_gen.to('cpu')\n",
    "    model.device = 'cpu'\n",
    "    model.fc = model.fc.to('cpu')\n",
    "    generate(img_feature.to('cpu'), model.to('cpu'), tokenizer, max_length=30, num_samples=10)\n",
    "device = 'cpu'\n",
    "cap_img('./images/police.jpg', feature_extractor, vision_model)"
   ]
  },
  {
   "cell_type": "code",
   "execution_count": null,
   "metadata": {},
   "outputs": [],
   "source": [
    "torch.save(model, './clipcap_mlp_finetune.model')"
   ]
  },
  {
   "cell_type": "code",
   "execution_count": null,
   "metadata": {},
   "outputs": [],
   "source": []
  }
 ],
 "metadata": {
  "kernelspec": {
   "display_name": "Python 3.8.13 ('beatsleo')",
   "language": "python",
   "name": "python3"
  },
  "language_info": {
   "codemirror_mode": {
    "name": "ipython",
    "version": 3
   },
   "file_extension": ".py",
   "mimetype": "text/x-python",
   "name": "python",
   "nbconvert_exporter": "python",
   "pygments_lexer": "ipython3",
   "version": "3.8.13"
  },
  "orig_nbformat": 4,
  "vscode": {
   "interpreter": {
    "hash": "16ea64f9ee948d927ad35fd9dd41586a042d593dc7bf73dbea6b47fb27e81f20"
   }
  }
 },
 "nbformat": 4,
 "nbformat_minor": 2
}
