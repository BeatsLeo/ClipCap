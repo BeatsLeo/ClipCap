{
 "cells": [
  {
   "cell_type": "code",
   "execution_count": 41,
   "metadata": {},
   "outputs": [],
   "source": [
    "import torch\n",
    "from transformers import CLIPModel, BertTokenizer, GPT2LMHeadModel, TextGenerationPipeline, ViTFeatureExtractor"
   ]
  },
  {
   "cell_type": "code",
   "execution_count": null,
   "metadata": {},
   "outputs": [],
   "source": [
    "device = 'cuda' if torch.cuda.is_available() else 'cpu'"
   ]
  },
  {
   "cell_type": "code",
   "execution_count": null,
   "metadata": {},
   "outputs": [],
   "source": [
    "# model = ViTFeatureExtractor.from_pretrained(\"openai/clip-vit-large-patch14\")\n",
    "model = GPT2LMHeadModel.from_pretrained(\"uer/gpt2-chinese-cluecorpussmall\").to(device)\n",
    "# model"
   ]
  },
  {
   "cell_type": "code",
   "execution_count": 42,
   "metadata": {},
   "outputs": [],
   "source": [
    "tokenizer = BertTokenizer.from_pretrained(\"uer/gpt2-chinese-cluecorpussmall\")"
   ]
  },
  {
   "cell_type": "code",
   "execution_count": 33,
   "metadata": {},
   "outputs": [],
   "source": [
    "def generate(text, model, tokenizer, max_length):\n",
    "\n",
    "    def generate_loop(data):\n",
    "        with torch.no_grad():\n",
    "            out = model(**data)\n",
    "        \n",
    "        out = out['logits'][:, -1]\n",
    "\n",
    "        topk_value = torch.topk(out, 50).values\n",
    "        topk_value = topk_value[:, -1].unsqueeze(dim=1)\n",
    "\n",
    "        # 赋值\n",
    "        out = out.masked_fill(out < topk_value, -float('inf'))  # 类似与torch.where\n",
    "\n",
    "        # 根据概率采样, 无放回, 所以不可能重复\n",
    "        out = out.softmax(dim=1)\n",
    "        out = out.multinomial(num_samples=1)    # 值就是采样权重(概率), replacement默认为False不放回, 返回该值的下标\n",
    "\n",
    "        data['input_ids'] = torch.cat([data['input_ids'], out], dim=1)\n",
    "        data['attention_mask'] = torch.ones_like(data['input_ids'])\n",
    "\n",
    "        if(data['input_ids'].shape[1] >= max_length):   # 大于max_length\n",
    "            return data\n",
    "        \n",
    "        return generate_loop(data)\n",
    "\n",
    "    # 重复5遍\n",
    "    data = tokenizer.batch_encode_plus([text]*5, return_tensors='pt', return_token_type_ids=False, add_special_tokens=False)\n",
    "    for k in data.keys():\n",
    "        data[k] = data[k].to(device)\n",
    "        \n",
    "    data = generate_loop(data)\n",
    "\n",
    "    for i in range(5):\n",
    "        print(i, tokenizer.decode(data['input_ids'][i]))"
   ]
  },
  {
   "cell_type": "code",
   "execution_count": 44,
   "metadata": {},
   "outputs": [
    {
     "data": {
      "text/plain": [
       "{'input_ids': tensor([[10539]]), 'attention_mask': tensor([[1]])}"
      ]
     },
     "execution_count": 44,
     "metadata": {},
     "output_type": "execute_result"
    }
   ],
   "source": [
    "# generate('这是很久之前的事情了', model, tokenizer, 100)\n",
    "data = tokenizer(['text'], return_tensors='pt', return_token_type_ids=False, return_overflowing_tokens=False, add_special_tokens=False)\n",
    "data"
   ]
  },
  {
   "cell_type": "code",
   "execution_count": null,
   "metadata": {},
   "outputs": [],
   "source": []
  }
 ],
 "metadata": {
  "kernelspec": {
   "display_name": "Python 3.8.13 ('beatsleo')",
   "language": "python",
   "name": "python3"
  },
  "language_info": {
   "codemirror_mode": {
    "name": "ipython",
    "version": 3
   },
   "file_extension": ".py",
   "mimetype": "text/x-python",
   "name": "python",
   "nbconvert_exporter": "python",
   "pygments_lexer": "ipython3",
   "version": "3.8.13"
  },
  "orig_nbformat": 4,
  "vscode": {
   "interpreter": {
    "hash": "16ea64f9ee948d927ad35fd9dd41586a042d593dc7bf73dbea6b47fb27e81f20"
   }
  }
 },
 "nbformat": 4,
 "nbformat_minor": 2
}
